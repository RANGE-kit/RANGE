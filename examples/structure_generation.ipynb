{
 "cells": [
  {
   "cell_type": "code",
   "execution_count": null,
   "id": "ec8c2fa0-b479-4433-88b1-542cd20a89f0",
   "metadata": {},
   "outputs": [],
   "source": [
    "from RANGE_py.ga_abc import GA_ABC\n",
    "from RANGE_py.cluster_model import cluster_model\n",
    "from RANGE_py.energy_calculation import energy_computation\n",
    "\n",
    "import numpy as np\n",
    "#import matplotlib.pyplot as plt\n",
    "import os\n",
    "\n",
    "from ase import Atoms\n",
    "from ase.constraints import FixAtoms\n",
    "from ase.visualize import view\n",
    "from ase.db import connect\n",
    "from ase.io import read, write\n",
    "\n",
    "# Environment setup\n",
    "os.environ['KMP_DUPLICATE_LIB_OK'] = 'True'"
   ]
  },
  {
   "cell_type": "code",
   "execution_count": null,
   "id": "2b9a67bc-92bc-409c-a18d-38548226c480",
   "metadata": {},
   "outputs": [],
   "source": [
    "def remove_db(db_name):\n",
    "    if os.path.exists(db_name):\n",
    "        os.remove(db_name)\n",
    "\n",
    "output_db_name = 'structure_pool.db'"
   ]
  },
  {
   "cell_type": "markdown",
   "id": "48f20705-7dc8-458f-a8a6-3ad214781a35",
   "metadata": {},
   "source": [
    "# Example 1: at_position + inbox with outside box option "
   ]
  },
  {
   "cell_type": "code",
   "execution_count": null,
   "id": "88537f37-67f0-4dd5-be3c-2ef125f99512",
   "metadata": {},
   "outputs": [],
   "source": [
    "copper_13 = 'xyz_structures/Cu13.xyz'\n",
    "methane = 'xyz_structures/methane.xyz'\n",
    "\n",
    "input_molecules = [copper_13, methane]\n",
    "input_num_of_molecules = [1, 5]\n",
    "\n",
    "input_constraint_type = [ 'at_position', 'in_box' ]\n",
    "input_constraint_value = [ (5,5,5,0,0,0), (0,0,0,10,10,10, 3,3,3,7,7,7) ]\n",
    "\n",
    "# Setting cluster\" \n",
    "cluster = cluster_model(input_molecules, input_num_of_molecules, input_constraint_type, input_constraint_value)\n",
    "cluster.init_molelcules()\n",
    "cluster_template, cluster_boundary, cluster_conversion_rule = cluster.generate_bounds()  # Generate modeling setting\n",
    "\n",
    "# Setting calculator for coarse opt\n",
    "coarse_opt_parameter = dict(coarse_calc_eps='UFF', coarse_calc_sig='UFF', coarse_calc_chg=0, \n",
    "                            coarse_calc_step=10, coarse_calc_fmax=10, coarse_calc_constraint=None)\n",
    "computation = energy_computation(templates = cluster_template, go_conversion_rule = cluster_conversion_rule,   \n",
    "                                 calculator = None, geo_opt_para = None, calculator_type = 'structural',    \n",
    "                                 if_coarse_calc = False, coarse_calc_para = coarse_opt_parameter,)\n",
    "# Setting the main opt process\n",
    "remove_db(output_db_name)\n",
    "optimization = GA_ABC(computation.obj_func_compute_energy, cluster_boundary, colony_size=10,  \n",
    "                      max_iteration=0, initial_population_scaler=1, output_database = output_db_name )\n",
    "optimization.run(print_interval=1)  # Start running. Print information with given frequency. \n"
   ]
  },
  {
   "cell_type": "code",
   "execution_count": null,
   "id": "517b2ba9-e44b-4297-84d7-13744b1d783e",
   "metadata": {},
   "outputs": [],
   "source": [
    "db = connect('structure_pool.db')\n",
    "atoms = db.get_atoms(id=3) \n",
    "view( atoms, viewer='x3d' )\n"
   ]
  },
  {
   "cell_type": "code",
   "execution_count": null,
   "id": "252311d1-61c8-4252-8619-413c172e3515",
   "metadata": {},
   "outputs": [],
   "source": [
    "# With built-in coarse-optimization force field \n",
    "coarse_opt_parameter = dict(coarse_calc_eps='UFF', coarse_calc_sig='UFF', coarse_calc_chg=0, \n",
    "                            coarse_calc_step=20, coarse_calc_fmax=10, coarse_calc_constraint=None)\n",
    "computation = energy_computation(templates = cluster_template, go_conversion_rule = cluster_conversion_rule,   \n",
    "                                 calculator = None, geo_opt_para = None, calculator_type = 'structural',    \n",
    "                                 if_coarse_calc = True, coarse_calc_para = coarse_opt_parameter,)\n",
    "# Setting the main opt process\n",
    "remove_db(output_db_name)\n",
    "optimization = GA_ABC(computation.obj_func_compute_energy, cluster_boundary, colony_size=10,  \n",
    "                      max_iteration=0, initial_population_scaler=1, output_database = output_db_name )\n",
    "optimization.run(print_interval=1)  # Start running. Print information with given frequency. "
   ]
  },
  {
   "cell_type": "code",
   "execution_count": null,
   "id": "a581cfe1-aa62-47ee-8552-5530d8934752",
   "metadata": {},
   "outputs": [],
   "source": [
    "db = connect('structure_pool.db')\n",
    "atoms = db.get_atoms(id=3) \n",
    "view( atoms, viewer='x3d' )\n"
   ]
  },
  {
   "cell_type": "markdown",
   "id": "9865f16c-fd16-4cdd-bcc4-7d89adaf13f4",
   "metadata": {},
   "source": [
    "# Example 2: at_position + in_sphere_shell"
   ]
  },
  {
   "cell_type": "code",
   "execution_count": null,
   "id": "f9e2d414-9d8c-4f9d-809a-c3df6419b7f5",
   "metadata": {},
   "outputs": [],
   "source": [
    "copper_13 = 'xyz_structures/Cu13.xyz'\n",
    "water = 'xyz_structures/Water.xyz'\n",
    "\n",
    "input_molecules = [copper_13, water]\n",
    "input_num_of_molecules = [1, 20]\n",
    "\n",
    "input_constraint_type = [ 'at_position', 'in_sphere_shell' ]\n",
    "input_constraint_value = [ (5,5,5), (5,5,5, 10,10,10, 0.5) ]\n",
    "\n",
    "# Setting cluster\" \n",
    "cluster = cluster_model(input_molecules, input_num_of_molecules, input_constraint_type, input_constraint_value)\n",
    "cluster.init_molelcules()\n",
    "cluster_template, cluster_boundary, cluster_conversion_rule = cluster.generate_bounds()  # Generate modeling setting\n",
    "\n",
    "# With built-in coarse-optimization force field \n",
    "coarse_opt_parameter = dict(coarse_calc_eps='UFF', coarse_calc_sig='UFF', coarse_calc_chg=0, \n",
    "                            coarse_calc_step=20, coarse_calc_fmax=10, coarse_calc_constraint=None)\n",
    "computation = energy_computation(templates = cluster_template, go_conversion_rule = cluster_conversion_rule,   \n",
    "                                 calculator = None, geo_opt_para = None, calculator_type = 'structural',    \n",
    "                                 if_coarse_calc = True, coarse_calc_para = coarse_opt_parameter,)\n",
    "# Setting the main opt process\n",
    "remove_db(output_db_name)\n",
    "optimization = GA_ABC(computation.obj_func_compute_energy, cluster_boundary, colony_size=10,  \n",
    "                      max_iteration=0, initial_population_scaler=1, output_database = output_db_name )\n",
    "optimization.run(print_interval=1)  # Start running. Print information with given frequency. \n"
   ]
  },
  {
   "cell_type": "code",
   "execution_count": null,
   "id": "f0200dee-ed4b-4e66-9941-5833b1722e76",
   "metadata": {},
   "outputs": [],
   "source": [
    "db = connect('structure_pool.db')\n",
    "atoms = db.get_atoms(id=3) \n",
    "view( atoms, viewer='x3d' )\n"
   ]
  },
  {
   "cell_type": "markdown",
   "id": "9246dac6-60a2-4989-991d-da1803c16c5d",
   "metadata": {},
   "source": [
    "# Example 3: at_position + on_surface"
   ]
  },
  {
   "cell_type": "code",
   "execution_count": null,
   "id": "f9b83a0c-2545-4ac7-9ae6-7aefe9e58e85",
   "metadata": {},
   "outputs": [],
   "source": [
    "copper_13 = 'xyz_structures/Cu13.xyz'\n",
    "water = 'xyz_structures/Water.xyz'\n",
    "\n",
    "input_molecules = [copper_13, water]\n",
    "input_num_of_molecules = [1, 5]\n",
    "\n",
    "input_constraint_type = [ 'at_position', 'on_surface' ]\n",
    "input_constraint_value = [ (5,5,5,0,0,0), (0, (1.9, 2.1), 0,1) ]\n",
    "\n",
    "# Setting cluster\" \n",
    "cluster = cluster_model(input_molecules, input_num_of_molecules, input_constraint_type, input_constraint_value)\n",
    "cluster.init_molelcules()\n",
    "cluster_template, cluster_boundary, cluster_conversion_rule = cluster.generate_bounds()  # Generate modeling setting\n",
    "\n",
    "# With built-in coarse-optimization force field \n",
    "coarse_opt_parameter = dict(coarse_calc_eps='UFF', coarse_calc_sig='UFF', coarse_calc_chg=0, \n",
    "                            coarse_calc_step=20, coarse_calc_fmax=10, coarse_calc_constraint=None)\n",
    "computation = energy_computation(templates = cluster_template, go_conversion_rule = cluster_conversion_rule,   \n",
    "                                 calculator = None, geo_opt_para = None, calculator_type = 'structural',    \n",
    "                                 if_coarse_calc = True, coarse_calc_para = coarse_opt_parameter,)\n",
    "# Setting the main opt process\n",
    "remove_db(output_db_name)\n",
    "optimization = GA_ABC(computation.obj_func_compute_energy, cluster_boundary, colony_size=10,  \n",
    "                      max_iteration=0, initial_population_scaler=1, output_database = output_db_name )\n",
    "optimization.run(print_interval=1)  # Start running. Print information with given frequency. \n"
   ]
  },
  {
   "cell_type": "code",
   "execution_count": null,
   "id": "b971516d-cd4b-4d59-9271-d01291d9c3a4",
   "metadata": {},
   "outputs": [],
   "source": [
    "db = connect('structure_pool.db')\n",
    "atoms = db.get_atoms(id=3) \n",
    "view( atoms, viewer='x3d' )\n"
   ]
  },
  {
   "cell_type": "markdown",
   "id": "c26180a7-06df-4e86-8d45-863586468c13",
   "metadata": {},
   "source": [
    "# Example 4: at_position + in_pore"
   ]
  },
  {
   "cell_type": "code",
   "execution_count": null,
   "id": "310750b0-c88a-4649-903f-ac1a87d77966",
   "metadata": {},
   "outputs": [],
   "source": [
    "zeolite = 'xyz_structures/Zeolite.xyz'\n",
    "water = 'xyz_structures/Water.xyz'\n",
    "\n",
    "input_molecules = [zeolite, water]\n",
    "input_num_of_molecules = [1, 5]\n",
    "\n",
    "input_constraint_type = [ 'at_position', 'in_pore' ]\n",
    "input_constraint_value = [ (), (0, (287,95,96,97,113,106,250,265,270,136,262,258,261), 0.2) ]\n",
    "\n",
    "# Setting cluster\" \n",
    "cluster = cluster_model(input_molecules, input_num_of_molecules, input_constraint_type, input_constraint_value,\n",
    "                       pbc_box=( 20.022, 19.899, 13.383 ) ) # PBC system\n",
    "cluster.init_molelcules()\n",
    "cluster_template, cluster_boundary, cluster_conversion_rule = cluster.generate_bounds()  # Generate modeling setting\n",
    "\n",
    "# With built-in coarse-optimization force field \n",
    "coarse_opt_parameter = dict(coarse_calc_eps='UFF', coarse_calc_sig='UFF', coarse_calc_chg=0, \n",
    "                            coarse_calc_step=20, coarse_calc_fmax=10, coarse_calc_constraint=None)\n",
    "computation = energy_computation(templates = cluster_template, go_conversion_rule = cluster_conversion_rule,   \n",
    "                                 calculator = None, geo_opt_para = None, calculator_type = 'structural',    \n",
    "                                 if_coarse_calc = True, coarse_calc_para = coarse_opt_parameter,)\n",
    "# Setting the main opt process\n",
    "remove_db(output_db_name)\n",
    "optimization = GA_ABC(computation.obj_func_compute_energy, cluster_boundary, colony_size=10,  \n",
    "                      max_iteration=0, initial_population_scaler=1, output_database = output_db_name )\n",
    "optimization.run(print_interval=1)  # Start running. Print information with given frequency. \n"
   ]
  },
  {
   "cell_type": "code",
   "execution_count": null,
   "id": "04674687-7961-4249-8226-ed1b96410b4b",
   "metadata": {},
   "outputs": [],
   "source": [
    "db = connect('structure_pool.db')\n",
    "atoms = db.get_atoms(id= 3 ) \n",
    "view( atoms, viewer='x3d' )\n"
   ]
  },
  {
   "cell_type": "markdown",
   "id": "667eb0ef-a5ba-4790-a9f6-bfba014e1e83",
   "metadata": {},
   "source": [
    "# Example 5: layer and micelle"
   ]
  },
  {
   "cell_type": "code",
   "execution_count": null,
   "id": "8543b889-afaa-48fc-bae0-c64406b8d92d",
   "metadata": {},
   "outputs": [],
   "source": [
    "substrate = 'xyz_structures/BaTiO3-cub-7layer-TiO.xyz'\n",
    "water = 'xyz_structures/Water.xyz'\n",
    "\n",
    "input_molecules = [substrate, water]\n",
    "input_num_of_molecules = [1, 5]\n",
    "\n",
    "input_constraint_type = [ 'at_position', 'layer' ]\n",
    "input_constraint_value = [ (), ( (4,4,18), (14,4,18), (4,14,18), (0,0,30), 0.5, 0,1 ) ]\n",
    "\n",
    "# Setting cluster\" \n",
    "cluster = cluster_model(input_molecules, input_num_of_molecules, input_constraint_type, input_constraint_value,\n",
    "                       pbc_box=(20.26028, 20.26028, 32.13928) ) # PBC system\n",
    "cluster.init_molelcules()\n",
    "cluster_template, cluster_boundary, cluster_conversion_rule = cluster.generate_bounds()  # Generate modeling setting\n",
    "\n",
    "# Constraint\n",
    "cluster_atoms = Atoms()\n",
    "for at in cluster_template:\n",
    "    cluster_atoms += at\n",
    "ase_constraint = FixAtoms(indices=[at.index for at in cluster_atoms if at.symbol=='Ba' or at.symbol=='Ti' ])\n",
    "\n",
    "# With built-in coarse-optimization force field \n",
    "coarse_opt_parameter = dict(coarse_calc_eps='UFF', coarse_calc_sig='UFF', coarse_calc_chg=0, \n",
    "                            coarse_calc_step=20, coarse_calc_fmax=10, coarse_calc_constraint=ase_constraint)\n",
    "computation = energy_computation(templates = cluster_template, go_conversion_rule = cluster_conversion_rule,   \n",
    "                                 calculator = None, geo_opt_para = None, calculator_type = 'structural',    \n",
    "                                 if_coarse_calc = True, coarse_calc_para = coarse_opt_parameter,)\n",
    "# Setting the main opt process\n",
    "remove_db(output_db_name)\n",
    "optimization = GA_ABC(computation.obj_func_compute_energy, cluster_boundary, colony_size=10,  \n",
    "                      max_iteration=0, initial_population_scaler=1, output_database = output_db_name )\n",
    "optimization.run(print_interval=1)  # Start running. Print information with given frequency. \n"
   ]
  },
  {
   "cell_type": "code",
   "execution_count": null,
   "id": "6cd94a6d-d40c-46c7-bab3-257c34b9720a",
   "metadata": {},
   "outputs": [],
   "source": [
    "db = connect('structure_pool.db')\n",
    "atoms = db.get_atoms(id= 3 ) \n",
    "view( atoms, viewer='x3d' )\n"
   ]
  },
  {
   "cell_type": "code",
   "execution_count": null,
   "id": "0905d68d-7137-471c-9382-2ac715c9d610",
   "metadata": {},
   "outputs": [],
   "source": [
    "water = 'xyz_structures/Water.xyz'\n",
    "\n",
    "input_molecules = [water]\n",
    "input_num_of_molecules = [6]\n",
    "\n",
    "input_constraint_type = [ 'micelle' ]\n",
    "input_constraint_value = [ (3,4,5, (0,0,0), 1.8, 0,1) ]\n",
    "\n",
    "# Setting cluster\" \n",
    "cluster = cluster_model(input_molecules, input_num_of_molecules, input_constraint_type, input_constraint_value,)\n",
    "cluster.init_molelcules()\n",
    "cluster_template, cluster_boundary, cluster_conversion_rule = cluster.generate_bounds()  # Generate modeling setting\n",
    "\n",
    "# With built-in coarse-optimization force field \n",
    "coarse_opt_parameter = dict(coarse_calc_eps='UFF', coarse_calc_sig='UFF', coarse_calc_chg=0, \n",
    "                            coarse_calc_step=20, coarse_calc_fmax=10, coarse_calc_constraint=None)\n",
    "computation = energy_computation(templates = cluster_template, go_conversion_rule = cluster_conversion_rule,   \n",
    "                                 calculator = None, geo_opt_para = None, calculator_type = 'structural',    \n",
    "                                 if_coarse_calc = True, coarse_calc_para = coarse_opt_parameter,)\n",
    "# Setting the main opt process\n",
    "remove_db(output_db_name)\n",
    "optimization = GA_ABC(computation.obj_func_compute_energy, cluster_boundary, colony_size=10,  \n",
    "                      max_iteration=0, initial_population_scaler=1, output_database = output_db_name )\n",
    "optimization.run(print_interval=1)  # Start running. Print information with given frequency. "
   ]
  },
  {
   "cell_type": "code",
   "execution_count": null,
   "id": "88de84f8-d3d4-442e-98b7-8224a4114ddd",
   "metadata": {},
   "outputs": [],
   "source": [
    "db = connect('structure_pool.db')\n",
    "atoms = db.get_atoms(id= 4 ) \n",
    "view( atoms, viewer='x3d' )\n"
   ]
  },
  {
   "cell_type": "markdown",
   "id": "d5936214-2c8d-4c2a-b42c-88f752831b84",
   "metadata": {},
   "source": [
    "# Example 6: replace"
   ]
  },
  {
   "cell_type": "code",
   "execution_count": null,
   "id": "df1d220a-b491-4c94-b76c-5739c8e9c1a7",
   "metadata": {},
   "outputs": [],
   "source": [
    "bulk_copper = 'xyz_structures/Bulk_copper.poscar' \n",
    "dopant = 'xyz_structures/Single_atom.xyz'\n",
    "\n",
    "# What atoms can be replaced? The top layers in this case\n",
    "atoms = read(bulk_copper)\n",
    "top_layer = np.amax( atoms.positions[:,2] )\n",
    "replace_atoms = [ at.index for at in atoms if at.position[2]>top_layer-0.1 ]\n",
    "\n",
    "input_molecules = [bulk_copper, dopant]\n",
    "input_num_of_molecules = [1, 6]\n",
    "\n",
    "input_constraint_type = [ 'at_position', 'replace' ]\n",
    "input_constraint_value = [ (), replace_atoms ]\n",
    "\n",
    "# Setting cluster\" \n",
    "cluster = cluster_model(input_molecules, input_num_of_molecules, input_constraint_type, input_constraint_value,\n",
    "                       pbc_box=(14.31,14.31,14.31) ) # PBC system\n",
    "cluster.init_molelcules()\n",
    "cluster_template, cluster_boundary, cluster_conversion_rule = cluster.generate_bounds()  # Generate modeling setting\n",
    "\n",
    "# Constraint\n",
    "cluster_atoms = Atoms()\n",
    "for at in cluster_template:\n",
    "    cluster_atoms += at\n",
    "ase_constraint = FixAtoms(indices=[at.index for at in cluster_atoms if at.symbol=='Cu' ])\n",
    "\n",
    "# With built-in coarse-optimization force field \n",
    "coarse_opt_parameter = dict(coarse_calc_eps='UFF', coarse_calc_sig='UFF', coarse_calc_chg=0, \n",
    "                            coarse_calc_step=20, coarse_calc_fmax=10, coarse_calc_constraint=ase_constraint)\n",
    "computation = energy_computation(templates = cluster_template, go_conversion_rule = cluster_conversion_rule,   \n",
    "                                 calculator = None, geo_opt_para = None, calculator_type = 'structural',    \n",
    "                                 if_coarse_calc = True, coarse_calc_para = coarse_opt_parameter,)\n",
    "# Setting the main opt process\n",
    "remove_db(output_db_name)\n",
    "optimization = GA_ABC(computation.obj_func_compute_energy, cluster_boundary, colony_size=10,  \n",
    "                      max_iteration=0, initial_population_scaler=1, output_database = output_db_name )\n",
    "optimization.run(print_interval=1)  # Start running. Print information with given frequency. "
   ]
  },
  {
   "cell_type": "code",
   "execution_count": null,
   "id": "01de5887-cd2f-4589-80c4-dffa8fc37c5f",
   "metadata": {},
   "outputs": [],
   "source": [
    "db = connect('structure_pool.db')\n",
    "atoms = db.get_atoms(id= 4 ) \n",
    "view( atoms, viewer='x3d' )\n"
   ]
  },
  {
   "cell_type": "code",
   "execution_count": null,
   "id": "da3ab538-8308-42e6-8875-fdd8aa1f4724",
   "metadata": {},
   "outputs": [],
   "source": []
  }
 ],
 "metadata": {
  "kernelspec": {
   "display_name": "Python 3 (ipykernel)",
   "language": "python",
   "name": "python3"
  },
  "language_info": {
   "codemirror_mode": {
    "name": "ipython",
    "version": 3
   },
   "file_extension": ".py",
   "mimetype": "text/x-python",
   "name": "python",
   "nbconvert_exporter": "python",
   "pygments_lexer": "ipython3",
   "version": "3.12.11"
  }
 },
 "nbformat": 4,
 "nbformat_minor": 5
}
